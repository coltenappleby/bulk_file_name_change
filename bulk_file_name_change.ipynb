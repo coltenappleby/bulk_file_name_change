{
 "cells": [
  {
   "cell_type": "code",
   "execution_count": 2,
   "metadata": {},
   "outputs": [
    {
     "data": {
      "text/plain": [
       "[None, None, None, None, None]"
      ]
     },
     "execution_count": 2,
     "metadata": {},
     "output_type": "execute_result"
    }
   ],
   "source": [
    "# https://stackoverflow.com/a/7917798\n",
    "import os\n",
    "[os.rename(f, f.replace('-', '_')) for f in os.listdir('.') if not f.startswith('.')]"
   ]
  },
  {
   "cell_type": "code",
   "execution_count": 42,
   "metadata": {},
   "outputs": [
    {
     "name": "stdout",
     "output_type": "stream",
     "text": [
      " appleby\n"
     ]
    }
   ],
   "source": [
    "text = 'colten appleby'\n",
    "print(text[text.find(' ')-len(text):])"
   ]
  },
  {
   "cell_type": "code",
   "execution_count": 46,
   "metadata": {},
   "outputs": [
    {
     "name": "stdout",
     "output_type": "stream",
     "text": [
      "___Ravishah\n"
     ]
    },
    {
     "data": {
      "text/plain": [
       "'0a0bd2c9_2752_43d9_b1c2_d29ee9664308'"
      ]
     },
     "execution_count": 46,
     "metadata": {},
     "output_type": "execute_result"
    }
   ],
   "source": [
    "file_name = '0a0bd2c9_2752_43d9_b1c2_d29ee9664308___Colten'\n",
    "\n",
    "print(file_name[file_name.find('___'):])\n",
    "file_name.replace(file_name[file_name.find('___'):], '')"
   ]
  },
  {
   "cell_type": "code",
   "execution_count": null,
   "metadata": {},
   "outputs": [],
   "source": [
    "# f[f.find('___'):]"
   ]
  },
  {
   "cell_type": "code",
   "execution_count": null,
   "metadata": {},
   "outputs": [],
   "source": [
    "#  Final - Works on three file names. \n",
    "import os\n",
    "[os.rename(f, f.replace(f[f.find('___'):], ' ')) for f in os.listdir('.') if not f.startswith('.')]"
   ]
  }
 ],
 "metadata": {
  "kernelspec": {
   "display_name": "Python 3",
   "language": "python",
   "name": "python3"
  },
  "language_info": {
   "codemirror_mode": {
    "name": "ipython",
    "version": 3
   },
   "file_extension": ".py",
   "mimetype": "text/x-python",
   "name": "python",
   "nbconvert_exporter": "python",
   "pygments_lexer": "ipython3",
   "version": "3.8.5"
  }
 },
 "nbformat": 4,
 "nbformat_minor": 4
}
